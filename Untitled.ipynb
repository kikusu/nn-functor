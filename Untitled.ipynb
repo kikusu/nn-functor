{
 "cells": [
  {
   "cell_type": "code",
   "execution_count": 23,
   "metadata": {},
   "outputs": [
    {
     "name": "stdout",
     "output_type": "stream",
     "text": [
      "The autoreload extension is already loaded. To reload it, use:\n",
      "  %reload_ext autoreload\n"
     ]
    }
   ],
   "source": [
    "%load_ext autoreload\n",
    "%autoreload 2\n",
    "\n",
    "%matplotlib inline"
   ]
  },
  {
   "cell_type": "code",
   "execution_count": 2,
   "metadata": {},
   "outputs": [],
   "source": [
    "import nn_functor.functions.linear\n",
    "import nn_functor.functions.error\n",
    "import nn_functor.report\n",
    "import numpy\n",
    "import random"
   ]
  },
  {
   "cell_type": "code",
   "execution_count": 56,
   "metadata": {},
   "outputs": [
    {
     "data": {
      "image/png": "[encoded data removed]",
      "text/plain": [
       "<Figure size 1440x1440 with 1 Axes>"
      ]
     },
     "metadata": {},
     "output_type": "display_data"
    },
    {
     "name": "stdout",
     "output_type": "stream",
     "text": [
      "result\n",
      "[-1  1] -> -1, predict:[-0.73821687]\n",
      "[ 1 -1] -> -1, predict:[-0.69183491]\n",
      "[1 1] -> 1, predict:[0.88598319]\n",
      "[1 1] -> 1, predict:[0.88598319]\n"
     ]
    }
   ],
   "source": [
    "random.seed(0)\n",
    "numpy.random.seed(0)\n",
    "\n",
    "data =  [numpy.array([1, 1]), numpy.array([1, -1]), numpy.array([-1, 1]), numpy.array([1, 1])]\n",
    "\n",
    "def f(src):\n",
    "    return src[0] * src[1]\n",
    "\n",
    "l = nn_functor.functions.linear.LinearNode(2, 1, 0.01)\n",
    "err_f = nn_functor.functions.error.MeanSquaredErrorNode()\n",
    "\n",
    "collector = nn_functor.report.Collector()\n",
    "collector.add_node(l)\n",
    "\n",
    "reporter = nn_functor.report.PylabReporter(collector=collector, interval=10)\n",
    "\n",
    "err_hist = []\n",
    "count = 0\n",
    "\n",
    "for i in range(100):\n",
    "    random.shuffle(data)\n",
    "\n",
    "    for src in data:\n",
    "        var_src = nn_functor.var.Var(src, has_link_info=False)\n",
    "        var_dst = nn_functor.var.Var(f(src), has_link_info=False)\n",
    "        v = l(var_src)\n",
    "        err = err_f(v, var_dst)\n",
    "        err_f.backward_chain()\n",
    "        \n",
    "        reporter.run()\n",
    "        err_f.update_chain()\n",
    "\n",
    "        err_hist.append(err.data)\n",
    "        count += 1\n",
    "        \n",
    "        # break\n",
    "\n",
    "print(\"result\")\n",
    "for src in data:\n",
    "    var_src = nn_functor.var.Var(src, has_link_info=False)\n",
    "    v = l(var_src)\n",
    "    print(f\"{src} -> {f(src)}, predict:{v.data}\")\n"
   ]
  },
  {
   "cell_type": "code",
   "execution_count": 4,
   "metadata": {},
   "outputs": [
    {
     "ename": "SyntaxError",
     "evalue": "invalid syntax (<ipython-input-4-cff3e0ecd105>, line 1)",
     "output_type": "error",
     "traceback": [
      "\u001b[0;36m  File \u001b[0;32m\"<ipython-input-4-cff3e0ecd105>\"\u001b[0;36m, line \u001b[0;32m1\u001b[0m\n\u001b[0;31m    reporter.\u001b[0m\n\u001b[0m             ^\u001b[0m\n\u001b[0;31mSyntaxError\u001b[0m\u001b[0;31m:\u001b[0m invalid syntax\n"
     ]
    }
   ],
   "source": [
    "    reporter."
   ]
  },
  {
   "cell_type": "code",
   "execution_count": null,
   "metadata": {},
   "outputs": [],
   "source": [
    "import re"
   ]
  },
  {
   "cell_type": "code",
   "execution_count": null,
   "metadata": {},
   "outputs": [],
   "source": [
    "a = [re.compile(\".*\")]\n",
    "\n",
    "next(filter(lambda x: x.match(\"a\"), a), False)"
   ]
  },
  {
   "cell_type": "code",
   "execution_count": null,
   "metadata": {},
   "outputs": [],
   "source": [
    "import inspect \n",
    "import itertools\n",
    "class A(object):\n",
    "    def __init__(self):\n",
    "        print([k for k, v in inspect.currentframe().f_back.f_locals.items() if v is self ])\n",
    "        \n",
    "    def hoge(self):\n",
    "        f_back = inspect.currentframe().f_back\n",
    "        print([k for k, v in itertools.chain.from_iterable([f_back.f_locals.items(), f_back.f_globals.items()]) if v is self ])\n",
    "\n",
    "b = A()\n",
    "def fuga():\n",
    "    b.hoge()\n",
    "    for a in [b, b]:\n",
    "        a.hoge()\n",
    "    b.hoge()\n",
    "fuga()\n"
   ]
  },
  {
   "cell_type": "code",
   "execution_count": 50,
   "metadata": {},
   "outputs": [
    {
     "data": {
      "text/plain": [
       "True"
      ]
     },
     "execution_count": 50,
     "metadata": {},
     "output_type": "execute_result"
    }
   ],
   "source": [
    "import nn_functor.functions.sigmoid\n",
    "\n",
    "nn_functor.functions.sigmoid.sigmoid_derivative_n(2, 2) == nn_functor.functions.sigmoid.sigmoid_derivative(2) * (2 - nn_functor.functions.sigmoid.sigmoid(2))"
   ]
  },
  {
   "cell_type": "code",
   "execution_count": 55,
   "metadata": {},
   "outputs": [
    {
     "data": {
      "text/plain": [
       "9"
      ]
     },
     "execution_count": 55,
     "metadata": {},
     "output_type": "execute_result"
    }
   ],
   "source": [
    "pow(3, 2)"
   ]
  }
 ],
 "metadata": {
  "kernelspec": {
   "display_name": "Python 3",
   "language": "python",
   "name": "python3"
  },
  "language_info": {
   "codemirror_mode": {
    "name": "ipython",
    "version": 3
   },
   "file_extension": ".py",
   "mimetype": "text/x-python",
   "name": "python",
   "nbconvert_exporter": "python",
   "pygments_lexer": "ipython3",
   "version": "3.7.0"
  }
 },
 "nbformat": 4,
 "nbformat_minor": 2
}
